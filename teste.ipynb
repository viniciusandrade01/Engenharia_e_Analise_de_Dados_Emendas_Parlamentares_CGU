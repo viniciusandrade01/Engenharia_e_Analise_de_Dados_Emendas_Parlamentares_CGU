{
 "cells": [
  {
   "cell_type": "code",
   "execution_count": 15,
   "metadata": {},
   "outputs": [],
   "source": [
    "# Importações\n",
    "import pandas as pd\n",
    "import requests as rq\n",
    "import zipfile\n",
    "import datetime\n",
    "import io\n",
    "import os"
   ]
  },
  {
   "cell_type": "code",
   "execution_count": 16,
   "metadata": {},
   "outputs": [],
   "source": [
    "# Atribuições\n",
    "# URL do arquivo zip que você deseja baixar\n",
    "\n",
    "url = 'https://portaldatransparencia.gov.br/download-de-dados/emendas-parlamentares/UNICO'\n",
    "\n",
    "headers = {\n",
    "            'User-Agent': 'Mozilla/5.0 (Windows NT 10.0; Win64; x64) AppleWebKit/537.36 (KHTML, like Gecko) Chrome/58.0.3029.110 Safari/537.3',\n",
    "            'Referer': f\"{url}\"\n",
    "}\n",
    "\n",
    "data = datetime.datetime.now().strftime(\"%Y-%m-%d %H:%M:%S\")\n",
    "\n",
    "name_directory = f\"Emenda_Parlamentar_{data.split(' ')[0].replace('-','')}\"\n",
    "\n",
    "if not os.path.exists(name_directory):\n",
    "    os.makedirs(name_directory)\n",
    "\n",
    "response = rq.get(url, headers=headers)"
   ]
  },
  {
   "cell_type": "code",
   "execution_count": 17,
   "metadata": {},
   "outputs": [],
   "source": [
    "# Extraindo arquivos do zip e inserindo no diretório desejado\n",
    "with zipfile.ZipFile(io.BytesIO(response.content)) as zip_ref:\n",
    "            #zip_ref.extractall(path=namedirectory)\n",
    "            zip_ref.extractall(path=name_directory)"
   ]
  },
  {
   "cell_type": "code",
   "execution_count": 22,
   "metadata": {},
   "outputs": [],
   "source": [
    "# Lendo arquivo CSV usando pd.read_csv\n",
    "df_csv = pd.read_csv(f'{name_directory}/Emendas.csv', sep=';', encoding='ISO-8859-1')"
   ]
  }
 ],
 "metadata": {
  "kernelspec": {
   "display_name": ".venv",
   "language": "python",
   "name": "python3"
  },
  "language_info": {
   "codemirror_mode": {
    "name": "ipython",
    "version": 3
   },
   "file_extension": ".py",
   "mimetype": "text/x-python",
   "name": "python",
   "nbconvert_exporter": "python",
   "pygments_lexer": "ipython3",
   "version": "3.11.4"
  }
 },
 "nbformat": 4,
 "nbformat_minor": 2
}
