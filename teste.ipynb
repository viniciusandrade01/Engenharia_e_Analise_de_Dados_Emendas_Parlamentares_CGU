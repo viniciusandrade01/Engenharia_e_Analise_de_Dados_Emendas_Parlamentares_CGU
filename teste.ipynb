{
 "cells": [
  {
   "cell_type": "code",
   "execution_count": 75,
   "metadata": {},
   "outputs": [],
   "source": [
    "# Importações\n",
    "\n",
    "import pandas as pd\n",
    "import requests as rq\n",
    "import zipfile\n",
    "import datetime\n",
    "import io\n",
    "import os"
   ]
  },
  {
   "cell_type": "code",
   "execution_count": 76,
   "metadata": {},
   "outputs": [],
   "source": [
    "# Atribuições\n",
    "\n",
    "# URL do arquivo zip que você deseja baixar\n",
    "url = 'https://portaldatransparencia.gov.br/download-de-dados/emendas-parlamentares/UNICO'\n",
    "\n",
    "headers = {\n",
    "            'User-Agent': 'Mozilla/5.0 (Windows NT 10.0; Win64; x64) AppleWebKit/537.36 (KHTML, like Gecko) Chrome/58.0.3029.110 Safari/537.3',\n",
    "            'Referer': f\"{url}\"\n",
    "}\n",
    "\n",
    "pd.set_option('display.float_format', lambda x: '%.2f' % x)\n",
    "\n",
    "data = datetime.datetime.now().strftime(\"%Y-%m-%d %H:%M:%S\")\n",
    "\n",
    "name_directory = f\"Emenda_Parlamentar_{data.split(' ')[0].replace('-','')}\"\n",
    "\n",
    "if not os.path.exists(name_directory):\n",
    "    os.makedirs(name_directory)\n",
    "\n",
    "response = rq.get(url, headers=headers)"
   ]
  },
  {
   "cell_type": "code",
   "execution_count": 77,
   "metadata": {},
   "outputs": [],
   "source": [
    "# Extraindo arquivos do zip e inserindo no diretório desejado\n",
    "with zipfile.ZipFile(io.BytesIO(response.content)) as zip_ref:\n",
    "            #zip_ref.extractall(path=namedirectory)\n",
    "            zip_ref.extractall(path=name_directory)"
   ]
  },
  {
   "cell_type": "code",
   "execution_count": 78,
   "metadata": {},
   "outputs": [],
   "source": [
    "# Lendo arquivo CSV usando pd.read_csv\n",
    "df_csv = pd.read_csv(f'{name_directory}/Emendas.csv', sep=';', encoding='ISO-8859-1')"
   ]
  },
  {
   "cell_type": "code",
   "execution_count": 79,
   "metadata": {},
   "outputs": [],
   "source": [
    "# Ajustando os tipos das colunas e seus valores\n",
    "df_csv['Ano da Emenda'] = df_csv['Ano da Emenda'].astype(int)\n",
    "df_csv['Valor Empenhado'] = df_csv['Valor Empenhado'].str.replace(',', '.').astype(float)"
   ]
  },
  {
   "cell_type": "code",
   "execution_count": 80,
   "metadata": {},
   "outputs": [
    {
     "name": "stdout",
     "output_type": "stream",
     "text": [
      "   Ano da Emenda  Valor Empenhado\n",
      "0           2014    6094305555.29\n",
      "1           2015    3383460923.45\n",
      "2           2016   25921956417.09\n",
      "3           2017   17531936593.39\n",
      "4           2018   12011002555.81\n",
      "5           2019   13863064452.72\n",
      "6           2020   37540725479.42\n",
      "7           2021   33398615010.67\n",
      "8           2022   25403370096.60\n",
      "9           2023   23730152113.53\n"
     ]
    }
   ],
   "source": [
    "# Evolução anual dos valores empenhados (âmbito geral)\n",
    "valor_empenhado_agrupado = df_csv.groupby('Ano da Emenda')['Valor Empenhado'].sum()\n",
    "df_evolucao_empenhados = pd.DataFrame({'Ano da Emenda': valor_empenhado_agrupado.index, 'Valor Empenhado': valor_empenhado_agrupado.values})\n",
    "print(df_evolucao_empenhados)"
   ]
  },
  {
   "cell_type": "code",
   "execution_count": 81,
   "metadata": {},
   "outputs": [
    {
     "name": "stdout",
     "output_type": "stream",
     "text": [
      "     Ano da Emenda           Nome Função  Contagem\n",
      "0             2014                 Saúde       712\n",
      "1             2014             Urbanismo       245\n",
      "2             2014              Educação       161\n",
      "3             2014      Desporto e lazer       147\n",
      "4             2014           Agricultura       125\n",
      "..             ...                   ...       ...\n",
      "229           2023  Ciência e Tecnologia        14\n",
      "230           2023          Comunicações        13\n",
      "231           2023   Relações exteriores         4\n",
      "232           2023             Indústria         3\n",
      "233           2023         Administração         2\n",
      "\n",
      "[234 rows x 3 columns]\n"
     ]
    }
   ],
   "source": [
    "# Ordenação dos setores mais \"amparados\"\n",
    "resultados_anual = df_csv.groupby('Ano da Emenda')['Nome Função'].value_counts()\n",
    "resultados_anual = resultados_anual.reset_index(name='Contagem')\n",
    "print(resultados_anual)"
   ]
  },
  {
   "cell_type": "code",
   "execution_count": 82,
   "metadata": {},
   "outputs": [
    {
     "name": "stdout",
     "output_type": "stream",
     "text": [
      "     Ano da Emenda Nome Função  Contagem\n",
      "0             2014       Saúde       712\n",
      "20            2015       Saúde      1633\n",
      "39            2016       Saúde      2736\n",
      "66            2017       Saúde      2553\n",
      "92            2018       Saúde      2795\n",
      "115           2019       Saúde      4002\n",
      "138           2020       Saúde      3323\n",
      "164           2021       Saúde      2665\n",
      "188           2022       Saúde      2427\n",
      "212           2023       Saúde      2211\n"
     ]
    }
   ],
   "source": [
    "# Qual setor, a cada ano, se destaca mais\n",
    "setor_destaque = resultados_anual.groupby('Ano da Emenda')['Contagem'].idxmax()\n",
    "filtro_setor_destaque = resultados_anual.loc[setor_destaque]\n",
    "print(filtro_setor_destaque)"
   ]
  },
  {
   "cell_type": "code",
   "execution_count": 83,
   "metadata": {},
   "outputs": [
    {
     "name": "stdout",
     "output_type": "stream",
     "text": [
      "     Ano da Emenda                                    Nome Subfunção  Contagem\n",
      "0             2014                               Administração geral        79\n",
      "1             2014             Assistência hospitalar e ambulatorial       317\n",
      "2             2014                                    Atenção básica       255\n",
      "3             2014                        Desenvolvimento científico         2\n",
      "4             2014          Desenvolvimento tecnológico e engenharia         2\n",
      "..             ...                                               ...       ...\n",
      "115           2023  Difusão do conhecimento científico e tecnológico         7\n",
      "116           2023                      Formação de recursos humanos        15\n",
      "117           2023                                          Múltiplo        30\n",
      "118           2023                           Saneamento básico rural         1\n",
      "119           2023                         Vigilância epidemiológica         4\n",
      "\n",
      "[120 rows x 3 columns]\n"
     ]
    }
   ],
   "source": [
    "# A partir dos setores frequentes, ordene os subsetores, dos mais \"acessados\"\n",
    "filtro_setores_frequentes = df_csv[(df_csv['Ano da Emenda'].isin(filtro_setor_destaque['Ano da Emenda'])) & (df_csv['Nome Função'].isin(filtro_setor_destaque['Nome Função']))]\n",
    "contagem_subfuncao_anual = filtro_setores_frequentes.groupby(['Ano da Emenda', 'Nome Subfunção'])['Nome Subfunção'].count().reset_index(name='Contagem')\n",
    "print(contagem_subfuncao_anual)"
   ]
  },
  {
   "cell_type": "code",
   "execution_count": 92,
   "metadata": {},
   "outputs": [
    {
     "name": "stdout",
     "output_type": "stream",
     "text": [
      "   Ano da Emenda  Valor Empenhado  Ano do Mandato\n",
      "0           2014    6094305555.29               0\n",
      "1           2015    3383460923.45               1\n",
      "2           2016   25921956417.09               2\n",
      "3           2017   17531936593.39               3\n",
      "4           2018   12011002555.81               0\n",
      "5           2019   13863064452.72               1\n",
      "6           2020   37540725479.42               2\n",
      "7           2021   33398615010.67               3\n",
      "8           2022   25403370096.60               0\n",
      "9           2023   23730152113.53               1\n",
      "Ano do Mandato\n",
      "0   25403370096.60\n",
      "1   23730152113.53\n",
      "2   37540725479.42\n",
      "3   33398615010.67\n",
      "Name: Valor Empenhado, dtype: float64\n"
     ]
    }
   ],
   "source": [
    "# Análise histórica dos mandatos, sinalizando em qual ano (do mandato - levando em conta que, usualmente, há 4) há maiores incidências de gastos. CONTINUAR ESSE AQUI\n",
    "print(df_evolucao_empenhados)\n",
    "df_evolucao_empenhados['Ano do Mandato'] = (df_evolucao_empenhados['Ano da Emenda'] - df_evolucao_empenhados['Ano da Emenda'].iloc[0]) % 4\n",
    "\n",
    "maiores_valores_por_mandato = df_evolucao_empenhados.groupby('Ano do Mandato')['Valor Empenhado'].max()\n",
    "\n",
    "print(maiores_valores_por_mandato)\n",
    "\n",
    "\n"
   ]
  },
  {
   "cell_type": "code",
   "execution_count": null,
   "metadata": {},
   "outputs": [],
   "source": [
    "# Qual UF, Cidade e Estado teve maiores investimentos? "
   ]
  }
 ],
 "metadata": {
  "kernelspec": {
   "display_name": ".venv",
   "language": "python",
   "name": "python3"
  },
  "language_info": {
   "codemirror_mode": {
    "name": "ipython",
    "version": 3
   },
   "file_extension": ".py",
   "mimetype": "text/x-python",
   "name": "python",
   "nbconvert_exporter": "python",
   "pygments_lexer": "ipython3",
   "version": "3.11.4"
  }
 },
 "nbformat": 4,
 "nbformat_minor": 2
}
